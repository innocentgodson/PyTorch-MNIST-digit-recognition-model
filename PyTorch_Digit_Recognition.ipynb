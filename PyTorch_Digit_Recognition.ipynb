{
  "nbformat": 4,
  "nbformat_minor": 0,
  "metadata": {
    "colab": {
      "provenance": [],
      "authorship_tag": "ABX9TyMMs0D+qkELUNvuJ6SdXdex",
      "include_colab_link": true
    },
    "kernelspec": {
      "name": "python3",
      "display_name": "Python 3"
    },
    "language_info": {
      "name": "python"
    }
  },
  "cells": [
    {
      "cell_type": "markdown",
      "metadata": {
        "id": "view-in-github",
        "colab_type": "text"
      },
      "source": [
        "<a href=\"https://colab.research.google.com/github/innocentgodson/PyTorch-MNIST-digit-recognition-model/blob/main/PyTorch_Digit_Recognition.ipynb\" target=\"_parent\"><img src=\"https://colab.research.google.com/assets/colab-badge.svg\" alt=\"Open In Colab\"/></a>"
      ]
    },
    {
      "cell_type": "markdown",
      "source": [
        "**PyTorch MNIST digit recognition model**\n",
        "\n",
        "PyTorch is an open source framework for AI research and commercial production in machine learning. It is used to build, train, and optimize deep learning neural networks for applications such as image recognition, natural language processing, and speech recognition. It provides computation support for CPU, GPU, parallel and distributed training on multiple GPUs and multiple nodes. PyTorch is also flexible and easily extensible, with specific libraries and tools available for many different domains. All of the above have made PyTorch a leading framework in machine learning.\n",
        "\n",
        "This code performs handwritten digit recognition using PyTorch.\n",
        "\n",
        "It trains a model to recognize digits 0-9 using the MNIST dataset.\n",
        "\n",
        "After training, it saves the model, loads it again, and predicts digits from unseen test images."
      ],
      "metadata": {
        "id": "GTwiXJOyKKJg"
      }
    },
    {
      "cell_type": "markdown",
      "source": [
        "**Importing Required Libraries**"
      ],
      "metadata": {
        "id": "lFfPUQVHNQCF"
      }
    },
    {
      "cell_type": "code",
      "source": [
        "import torch\n",
        "from torch import nn\n",
        "from torch.utils.data import DataLoader\n",
        "from torchvision import datasets\n",
        "from torchvision.transforms import ToTensor"
      ],
      "metadata": {
        "id": "lA2UK9HpLuvk"
      },
      "execution_count": null,
      "outputs": []
    },
    {
      "cell_type": "markdown",
      "source": [
        "# **How does this lab work?**\n",
        "\n",
        "The lab uses MNIST datasets.\n",
        "\n",
        "The dataset has over 60,000 images of hand written digits. The data will be partitioned between training the AI model and testing the AI model after training.\n",
        "\n",
        "The main steps in this project include:\n",
        "\n",
        "Download the MNIST dataset and create a DataLoader for the dataset.\n",
        "Define an AI model to recognize a hand written digit.\n",
        "Train the defined AI model using training data from the MNIST dataset.\n",
        "Test the trained AI model using testing data from the MNIST dataset.\n",
        "Evaluate"
      ],
      "metadata": {
        "id": "JUG0KqxvNXwF"
      }
    },
    {
      "cell_type": "markdown",
      "source": [
        "**Download Dataset and Create Data Loader**\n",
        "\n",
        "The images are 28x28 pixel images of digits 0 through 9."
      ],
      "metadata": {
        "id": "PjKwVFk9OOZN"
      }
    },
    {
      "cell_type": "code",
      "source": [
        "# Download training data from MNIST datasets.\n",
        "training_data = datasets.MNIST(\n",
        "    root=\"data\",\n",
        "    train=True,\n",
        "    download=True,\n",
        "    transform=ToTensor(),\n",
        ")\n",
        "\n",
        "# Download test data from open datasets.\n",
        "test_data = datasets.MNIST(\n",
        "    root=\"data\",\n",
        "    train=False,\n",
        "    download=True,\n",
        "    transform=ToTensor(),\n",
        ")\n",
        "\n",
        "batch_size = 64\n",
        "\n",
        "# Create data loaders to iterate over data\n",
        "train_dataloader = DataLoader(training_data, batch_size=batch_size)\n",
        "test_dataloader = DataLoader(test_data, batch_size=batch_size)\n",
        "\n",
        "print(\"Training data size:\", len(train_dataloader) * batch_size)\n",
        "print(\"Test data size:\", len(test_dataloader) * batch_size)\n",
        "\n",
        "for X, y in test_dataloader:\n",
        "    print(f\"Shape of X [N, C, H, W]: {X.shape}\")\n",
        "    print(f\"Shape of y: {y.shape} {y.dtype}\")\n",
        "    break"
      ],
      "metadata": {
        "colab": {
          "base_uri": "https://localhost:8080/"
        },
        "id": "4DLCmKPPOnuf",
        "outputId": "298cdd54-6393-4fe1-d6d8-96f965e744f4"
      },
      "execution_count": null,
      "outputs": [
        {
          "output_type": "stream",
          "name": "stdout",
          "text": [
            "Training data size: 60032\n",
            "Test data size: 10048\n",
            "Shape of X [N, C, H, W]: torch.Size([64, 1, 28, 28])\n",
            "Shape of y: torch.Size([64]) torch.int64\n"
          ]
        }
      ]
    },
    {
      "cell_type": "markdown",
      "source": [
        "**Define the Model**\n",
        "\n",
        "We first determine the best device for performing training with cpu as the default device.\n",
        "\n",
        "We then define the AI model as a neural network with 3 layers: an input layer, a hidden layer, and an output layer. Between the layers, we use a ReLU activation function.\n",
        "\n",
        "Since the input images are 1x28x28 tensors, we need to flatten the input tensors into a 784 element tensor using the Flatten module before passing the input into our neural network."
      ],
      "metadata": {
        "id": "8ZwPd3x5SkoG"
      }
    },
    {
      "cell_type": "code",
      "source": [
        "# Get device for training.\n",
        "device = torch.device(\n",
        "    \"cuda\" if torch.cuda.is_available()\n",
        "    else \"mps\" if torch.backends.mps.is_available() # Apple Silicon GPU\n",
        "    else \"cpu\"\n",
        ")\n",
        "print(f\"Using {device} device\")\n",
        "\n",
        "# Define model\n",
        "class NeuralNetwork(nn.Module):\n",
        "    def __init__(self, input_size, hidden_size, num_classes):\n",
        "        super().__init__()\n",
        "        self.flatten = nn.Flatten()\n",
        "        self.linear_relu_stack = nn.Sequential(\n",
        "            nn.Linear(input_size, hidden_size),\n",
        "            nn.ReLU(),\n",
        "            nn.Linear(hidden_size, hidden_size),\n",
        "            nn.ReLU(),\n",
        "            nn.Linear(hidden_size, num_classes)\n",
        "        )\n",
        "\n",
        "    def forward(self, image_tensor):\n",
        "        image_tensor = self.flatten(image_tensor)\n",
        "        logits = self.linear_relu_stack(image_tensor)\n",
        "        return logits\n",
        "\n",
        "input_size = 28*28\n",
        "hidden_size = 512\n",
        "num_classes = 10\n",
        "\n",
        "model = NeuralNetwork(input_size, hidden_size, num_classes).to(device)\n",
        "print(model)"
      ],
      "metadata": {
        "colab": {
          "base_uri": "https://localhost:8080/"
        },
        "id": "BBTp_IE_SyTo",
        "outputId": "2a7975ad-d52f-40f1-ee3a-cdb21d0f7c73"
      },
      "execution_count": null,
      "outputs": [
        {
          "output_type": "stream",
          "name": "stdout",
          "text": [
            "Using cpu device\n",
            "NeuralNetwork(\n",
            "  (flatten): Flatten(start_dim=1, end_dim=-1)\n",
            "  (linear_relu_stack): Sequential(\n",
            "    (0): Linear(in_features=784, out_features=512, bias=True)\n",
            "    (1): ReLU()\n",
            "    (2): Linear(in_features=512, out_features=512, bias=True)\n",
            "    (3): ReLU()\n",
            "    (4): Linear(in_features=512, out_features=10, bias=True)\n",
            "  )\n",
            ")\n"
          ]
        }
      ]
    },
    {
      "cell_type": "markdown",
      "source": [
        "**Training loop**\n",
        "\n",
        "We implement a training function to use with the train_dataloader to train our model. Each iteration over the dataloader returns a batch_size image data tensor along with the expected output. After moving the tensors to the device, we call the forward pass of our model, compute the prediction error using the expected output and then call the backwards pass to compute the gradients and apply them to the model parameters."
      ],
      "metadata": {
        "id": "6yEAh9BRS-MO"
      }
    },
    {
      "cell_type": "code",
      "source": [
        "# Define our learning rate, loss function and optimizer\n",
        "learning_rate = 1e-3 # 0.001\n",
        "loss_fn = nn.CrossEntropyLoss()\n",
        "optimizer = torch.optim.Adam(model.parameters(), lr=learning_rate)\n",
        "\n",
        "# Let's define our training function\n",
        "def train(dataloader, model, loss_fn, optimizer):\n",
        "    size = len(dataloader.dataset)\n",
        "    model.train()\n",
        "\n",
        "    for batch_num, (X, y) in enumerate(dataloader):\n",
        "        X, y = X.to(device), y.to(device)\n",
        "\n",
        "        # Forward pass to compute prediction\n",
        "        pred = model(X)\n",
        "        # Compute prediction error using loss function\n",
        "        loss = loss_fn(pred, y)\n",
        "\n",
        "        # Backward pass\n",
        "        optimizer.zero_grad() # zero any previous gradient calculations\n",
        "        loss.backward() # calculate gradient\n",
        "        optimizer.step() # update model parameters\n",
        "\n",
        "        if batch_num > 0 and batch_num % 100 == 0:\n",
        "            loss, current = loss.item(), batch_num * len(X)\n",
        "            print(f\"loss: {loss:>7f}  [{current:>5d}/{size:>5d}]\")"
      ],
      "metadata": {
        "id": "3hMfz1vPTO2h"
      },
      "execution_count": null,
      "outputs": []
    },
    {
      "cell_type": "markdown",
      "source": [
        "**Test Loop**\n",
        "\n",
        "The test methods evaluates the model's predictive performance using the test_dataloader. During testing, we don't require gradient computation, so we set the model in evaluate mode."
      ],
      "metadata": {
        "id": "2FpF4EK2Tp-N"
      }
    },
    {
      "cell_type": "code",
      "source": [
        "# Our test function\n",
        "def test(dataloader, model, loss_fn):\n",
        "    size = len(dataloader.dataset)\n",
        "    num_batches = len(dataloader)\n",
        "    model.eval()\n",
        "    test_loss, correct = 0, 0\n",
        "    for X, y in dataloader:\n",
        "        X, y = X.to(device), y.to(device)\n",
        "        pred = model(X)\n",
        "        test_loss += loss_fn(pred, y).item()\n",
        "        correct += (pred.argmax(1) == y).type(torch.float).sum().item()\n",
        "    test_loss /= num_batches\n",
        "    correct /= size\n",
        "    print(f\"Test Error: \\n Accuracy: {(100*correct):>0.1f}%, Avg loss: {test_loss:>8f} \\n\")"
      ],
      "metadata": {
        "id": "7LWRKlorT59F"
      },
      "execution_count": null,
      "outputs": []
    },
    {
      "cell_type": "markdown",
      "source": [
        "**Train the Model**\n",
        "\n",
        "Now that we have defined methods to train our model and test the trained model's predictive behavior, lets train the model for 5 epochs over the dataset."
      ],
      "metadata": {
        "id": "xZSYrH3GUA9w"
      }
    },
    {
      "cell_type": "code",
      "source": [
        "# Let's run training\n",
        "epochs = 5\n",
        "for t in range(epochs):\n",
        "    print(f\"Epoch {t+1}\\n-------------------------------\")\n",
        "    train(train_dataloader, model, loss_fn, optimizer)\n",
        "    test(test_dataloader, model, loss_fn)\n",
        "print(\"Done!\")"
      ],
      "metadata": {
        "colab": {
          "base_uri": "https://localhost:8080/"
        },
        "id": "fXgrUxgKUJnH",
        "outputId": "f264177a-a2c1-42d5-f74d-17483e9bbeb1"
      },
      "execution_count": null,
      "outputs": [
        {
          "output_type": "stream",
          "name": "stdout",
          "text": [
            "Epoch 1\n",
            "-------------------------------\n",
            "loss: 0.266223  [ 6400/60000]\n",
            "loss: 0.197602  [12800/60000]\n",
            "loss: 0.247358  [19200/60000]\n",
            "loss: 0.157996  [25600/60000]\n",
            "loss: 0.349513  [32000/60000]\n",
            "loss: 0.162216  [38400/60000]\n",
            "loss: 0.277432  [44800/60000]\n",
            "loss: 0.290963  [51200/60000]\n",
            "loss: 0.179065  [57600/60000]\n",
            "Test Error: \n",
            " Accuracy: 95.9%, Avg loss: 0.131670 \n",
            "\n",
            "Epoch 2\n",
            "-------------------------------\n",
            "loss: 0.102256  [ 6400/60000]\n",
            "loss: 0.089514  [12800/60000]\n",
            "loss: 0.085653  [19200/60000]\n",
            "loss: 0.034012  [25600/60000]\n",
            "loss: 0.123474  [32000/60000]\n",
            "loss: 0.055659  [38400/60000]\n",
            "loss: 0.139737  [44800/60000]\n",
            "loss: 0.124390  [51200/60000]\n",
            "loss: 0.119794  [57600/60000]\n",
            "Test Error: \n",
            " Accuracy: 97.2%, Avg loss: 0.095293 \n",
            "\n",
            "Epoch 3\n",
            "-------------------------------\n",
            "loss: 0.064970  [ 6400/60000]\n",
            "loss: 0.056552  [12800/60000]\n",
            "loss: 0.095195  [19200/60000]\n",
            "loss: 0.031293  [25600/60000]\n",
            "loss: 0.067551  [32000/60000]\n",
            "loss: 0.029990  [38400/60000]\n",
            "loss: 0.065258  [44800/60000]\n",
            "loss: 0.113198  [51200/60000]\n",
            "loss: 0.091523  [57600/60000]\n",
            "Test Error: \n",
            " Accuracy: 97.0%, Avg loss: 0.109205 \n",
            "\n",
            "Epoch 4\n",
            "-------------------------------\n",
            "loss: 0.035558  [ 6400/60000]\n",
            "loss: 0.023943  [12800/60000]\n",
            "loss: 0.111430  [19200/60000]\n",
            "loss: 0.009827  [25600/60000]\n",
            "loss: 0.054231  [32000/60000]\n",
            "loss: 0.007546  [38400/60000]\n",
            "loss: 0.035476  [44800/60000]\n",
            "loss: 0.112654  [51200/60000]\n",
            "loss: 0.036402  [57600/60000]\n",
            "Test Error: \n",
            " Accuracy: 97.8%, Avg loss: 0.084299 \n",
            "\n",
            "Epoch 5\n",
            "-------------------------------\n",
            "loss: 0.008604  [ 6400/60000]\n",
            "loss: 0.042380  [12800/60000]\n",
            "loss: 0.029131  [19200/60000]\n",
            "loss: 0.026746  [25600/60000]\n",
            "loss: 0.050737  [32000/60000]\n",
            "loss: 0.006237  [38400/60000]\n",
            "loss: 0.037906  [44800/60000]\n",
            "loss: 0.111730  [51200/60000]\n",
            "loss: 0.048846  [57600/60000]\n",
            "Test Error: \n",
            " Accuracy: 97.0%, Avg loss: 0.111870 \n",
            "\n",
            "Done!\n"
          ]
        }
      ]
    },
    {
      "cell_type": "markdown",
      "source": [
        "**Save the model and make predictions**\n",
        "\n",
        "Once we have a trained model, we can save the model parameters for future use in inferences. Here we save the state_dict of the model which contains the trained parameters. We then create a new instance of the model and load the previously saved parameters into the new instance of the model. Finally we can inference using the new instance of the model."
      ],
      "metadata": {
        "id": "eYiz3LooUNiK"
      }
    },
    {
      "cell_type": "code",
      "source": [
        "# Save our model parameters\n",
        "torch.save(model.state_dict(), \"ml_with_pytorch_model.pth\")\n",
        "print(\"Saved PyTorch Model State to ml_with_pytorch_model.pth\")\n",
        "\n",
        "# Load the saved model parameters into a new instance of the model\n",
        "model = NeuralNetwork(input_size, hidden_size, num_classes).to(device)\n",
        "model.load_state_dict(torch.load(\"ml_with_pytorch_model.pth\"))\n",
        "\n",
        "# Inference using the new model instance\n",
        "model.eval()\n",
        "for i in range(10):\n",
        "    x, y = test_data[i][0], test_data[i][1]\n",
        "\n",
        "    x = x.to(device)\n",
        "    pred = model(x)\n",
        "    predicted, actual = pred[0].argmax(0).item(), y\n",
        "    print(f'Predicted: \"{predicted}\", Actual: \"{actual}\"')"
      ],
      "metadata": {
        "colab": {
          "base_uri": "https://localhost:8080/"
        },
        "id": "vfECdAIUUaQN",
        "outputId": "b5e55f3b-ccc3-41cc-b394-d412bc251689"
      },
      "execution_count": null,
      "outputs": [
        {
          "output_type": "stream",
          "name": "stdout",
          "text": [
            "Saved PyTorch Model State to ml_with_pytorch_model.pth\n",
            "Predicted: \"7\", Actual: \"7\"\n",
            "Predicted: \"2\", Actual: \"2\"\n",
            "Predicted: \"1\", Actual: \"1\"\n",
            "Predicted: \"0\", Actual: \"0\"\n",
            "Predicted: \"4\", Actual: \"4\"\n",
            "Predicted: \"1\", Actual: \"1\"\n",
            "Predicted: \"4\", Actual: \"4\"\n",
            "Predicted: \"9\", Actual: \"9\"\n",
            "Predicted: \"5\", Actual: \"5\"\n",
            "Predicted: \"9\", Actual: \"9\"\n"
          ]
        }
      ]
    },
    {
      "cell_type": "code",
      "source": [
        "# Create directory and files\n",
        "!mkdir -p mnist_streamlit_app\n",
        "!touch mnist_streamlit_app/app.py\n",
        "!touch mnist_streamlit_app/model.py\n",
        "!touch mnist_streamlit_app/inference.py\n",
        "!touch mnist_streamlit_app/ml_with_pytorch_model.pth\n",
        "!touch mnist_streamlit_app/requirements.txt\n",
        "!touch mnist_streamlit_app/README.md"
      ],
      "metadata": {
        "id": "zZJFqq7ggtKn"
      },
      "execution_count": null,
      "outputs": []
    }
  ]
}